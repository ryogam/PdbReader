{
 "cells": [
  {
   "cell_type": "code",
   "execution_count": 139,
   "metadata": {
    "collapsed": true
   },
   "outputs": [],
   "source": [
    "import re\n",
    "import numpy as np\n",
    "\n",
    "\n",
    "pdb_file = './2DX3.pdb'\n",
    "model_num = 5\n",
    "f = open(pdb_file, \"r\")\n",
    "all_model_list = []\n",
    "q_array = np.array([])\n",
    "weight_q_array = np.array([], )\n",
    "moment_array = np.array([], dtype = 'float64')\n",
    "\n",
    "Total_weight = 0\n",
    "\n",
    "for line in f:\n",
    "    if line.startswith(\"MODEL\"):\n",
    "        each_model_list = []\n",
    "\n",
    "    elif line.startswith(\"ATOM\"):\n",
    "        each_model_list.append(line)\n",
    "        \n",
    "        \n",
    "    elif line.startswith(\"ENDMDL\"):\n",
    "        all_model_list.append(each_model_list)\n",
    "f.close()\n",
    "MODEL4 = all_model_list[4]\n",
    "for line in MODEL4:\n",
    "    x = line.split()[6]\n",
    "    y = line.split()[7]\n",
    "    z = line.split()[8]\n",
    "    q = np.array([x, y, z], dtype = 'float64')\n",
    "    q_array = np.append(q_array, q)\n",
    "    element= line.split()[11]\n",
    "    if element == 'H':\n",
    "        weight = 1 \n",
    "    elif element == 'C':\n",
    "        weight = 12\n",
    "    elif element == 'N':\n",
    "        weight = 14\n",
    "    elif element == 'O':\n",
    "        weight = 16\n",
    "    moment = q * weight\n",
    "    moment_array = np.append(moment_array, moment)\n",
    "    Total_weight += weight\n",
    "    weight_q = q * (weight**(1/2))\n",
    "    weight_q_array = np.append(weight_q_array, weight_q)\n",
    "\n",
    "q_matrix = q_array.reshape(int(q_array.shape[0]/3), 3)\n",
    "weight_q_matrix=  weight_q_array.reshape(int(weight_q_array.shape[0]/3), 3)\n",
    "moment_matrix = moment_array.reshape(int(moment_array.shape[0]/3), 3)\n",
    "center = np.array([sum(moment_matrix[:, 0]), sum(moment_matrix[:, 1]), sum(moment_matrix[:, 2])]) / Total_weight\n",
    "q_matrix_from_center = q_matrix - center"
   ]
  },
  {
   "cell_type": "code",
   "execution_count": 149,
   "metadata": {},
   "outputs": [
    {
     "name": "stdout",
     "output_type": "stream",
     "text": [
      "[[1 2 3]\n",
      " [9 6 9]]\n",
      "[[-9 -8 -7]\n",
      " [-1 -4 -1]]\n"
     ]
    }
   ],
   "source": [
    "print(np.array([1,2,3,9,6,9]).reshape(2, 3))\n",
    "print(np.array([1,2,3,9,6,9]).reshape(2, 3)  -10)"
   ]
  },
  {
   "cell_type": "code",
   "execution_count": 163,
   "metadata": {
    "collapsed": true
   },
   "outputs": [],
   "source": [
    "import re\n",
    "import numpy as np\n",
    "\n",
    "\n",
    "pdb_file = './Wild1_315K_1.pdb'\n",
    "f = open(pdb_file, \"r\")\n",
    "all_model_list = []\n",
    "q_array = np.array([])\n",
    "weight_q_array = np.array([], )\n",
    "moment_array = np.array([], dtype = 'float64')\n",
    "\n",
    "Total_weight = 0\n",
    "if not model_num == None:\n",
    "    for line in f:\n",
    "        if line.startswith(\"ATOM\"):\n",
    "            each_model_list.append(line)\n",
    "    MODEL =each_model_list\n",
    "else:\n",
    "    for line in f:\n",
    "        if line.startswith(\"MODEL\"):\n",
    "            each_model_list = []\n",
    "\n",
    "        elif line.startswith(\"ATOM\"):\n",
    "            each_model_list.append(line)\n",
    "\n",
    "\n",
    "        elif line.startswith(\"ENDMDL\"):\n",
    "            all_model_list.append(each_model_list)\n",
    "        MODEL = all_model_list[model_num]\n",
    "f.close()\n",
    "for line in MODEL:\n",
    "    x = line.split()[5]\n",
    "    y = line.split()[6]\n",
    "    z = line.split()[7]\n",
    "    q = np.array([x, y, z], dtype = 'float64')\n",
    "    q_array = np.append(q_array, q)\n",
    "    element= line.split()[10]\n",
    "    if element == 'H':\n",
    "        weight = 1 \n",
    "    elif element == 'C':\n",
    "        weight = 12\n",
    "    elif element == 'N':\n",
    "        weight = 14\n",
    "    elif element == 'O':\n",
    "        weight = 16\n",
    "    moment = q * weight\n",
    "    moment_array = np.append(moment_array, moment)\n",
    "    Total_weight += weight\n",
    "    weight_q = q * (weight**(1/2))\n",
    "    weight_q_array = np.append(weight_q_array, weight_q)\n",
    "\n",
    "q_matrix = q_array.reshape(int(q_array.shape[0]/3), 3)\n",
    "weight_q_matrix=  weight_q_array.reshape(int(weight_q_array.shape[0]/3), 3)\n",
    "moment_matrix = moment_array.reshape(int(moment_array.shape[0]/3), 3)\n",
    "center = np.array([sum(moment_matrix[:, 0]), sum(moment_matrix[:, 1]), sum(moment_matrix[:, 2])]) / Total_weight\n",
    "q_matrix_from_center = q_matrix - center"
   ]
  },
  {
   "cell_type": "code",
   "execution_count": 164,
   "metadata": {},
   "outputs": [
    {
     "data": {
      "text/plain": [
       "array([[ -9.11781567, -27.5563003 , -10.74385366],\n",
       "       [ -9.42081567, -28.1593003 , -11.49485366],\n",
       "       [ -9.83681567, -27.6213003 , -10.03685366],\n",
       "       ..., \n",
       "       [-19.15981567,  15.2226997 ,  28.49314634],\n",
       "       [-20.21081567,  15.8536997 ,  28.50314634],\n",
       "       [-18.08681567,  15.8036997 ,  28.82714634]])"
      ]
     },
     "execution_count": 164,
     "metadata": {},
     "output_type": "execute_result"
    }
   ],
   "source": [
    "q_matrix_from_center"
   ]
  },
  {
   "cell_type": "code",
   "execution_count": 165,
   "metadata": {
    "collapsed": true
   },
   "outputs": [],
   "source": [
    "import re\n",
    "import numpy as np\n",
    "\n",
    "\n",
    "pdb_file = './Wild1_315K_2.pdb'\n",
    "f = open(pdb_file, \"r\")\n",
    "all_model_list = []\n",
    "q_array = np.array([])\n",
    "weight_q_array = np.array([], )\n",
    "moment_array = np.array([], dtype = 'float64')\n",
    "\n",
    "Total_weight = 0\n",
    "if not model_num == None:\n",
    "    for line in f:\n",
    "        if line.startswith(\"ATOM\"):\n",
    "            each_model_list.append(line)\n",
    "    MODEL =each_model_list\n",
    "else:\n",
    "    for line in f:\n",
    "        if line.startswith(\"MODEL\"):\n",
    "            each_model_list = []\n",
    "\n",
    "        elif line.startswith(\"ATOM\"):\n",
    "            each_model_list.append(line)\n",
    "\n",
    "\n",
    "        elif line.startswith(\"ENDMDL\"):\n",
    "            all_model_list.append(each_model_list)\n",
    "        MODEL = all_model_list[model_num]\n",
    "f.close()\n",
    "for line in MODEL:\n",
    "    x = line.split()[5]\n",
    "    y = line.split()[6]\n",
    "    z = line.split()[7]\n",
    "    q = np.array([x, y, z], dtype = 'float64')\n",
    "    q_array = np.append(q_array, q)\n",
    "    element= line.split()[10]\n",
    "    if element == 'H':\n",
    "        weight = 1 \n",
    "    elif element == 'C':\n",
    "        weight = 12\n",
    "    elif element == 'N':\n",
    "        weight = 14\n",
    "    elif element == 'O':\n",
    "        weight = 16\n",
    "    moment = q * weight\n",
    "    moment_array = np.append(moment_array, moment)\n",
    "    Total_weight += weight\n",
    "    weight_q = q * (weight**(1/2))\n",
    "    weight_q_array = np.append(weight_q_array, weight_q)\n",
    "\n",
    "q_matrix = q_array.reshape(int(q_array.shape[0]/3), 3)\n",
    "weight_q_matrix=  weight_q_array.reshape(int(weight_q_array.shape[0]/3), 3)\n",
    "moment_matrix = moment_array.reshape(int(moment_array.shape[0]/3), 3)\n",
    "center = np.array([sum(moment_matrix[:, 0]), sum(moment_matrix[:, 1]), sum(moment_matrix[:, 2])]) / Total_weight\n",
    "q_matrix_from_center = q_matrix - center"
   ]
  },
  {
   "cell_type": "code",
   "execution_count": 166,
   "metadata": {},
   "outputs": [
    {
     "data": {
      "text/plain": [
       "array([[ -8.50062361, -16.84470722,  -2.35140026],\n",
       "       [ -8.80362361, -17.44770722,  -3.10240026],\n",
       "       [ -9.21962361, -16.90970722,  -1.64440026],\n",
       "       ..., \n",
       "       [-30.15862361, -34.26470722, -56.25240026],\n",
       "       [-30.50262361, -34.72670722, -55.12840026],\n",
       "       [-30.90562361, -34.23770722, -57.26440026]])"
      ]
     },
     "execution_count": 166,
     "metadata": {},
     "output_type": "execute_result"
    }
   ],
   "source": [
    "q_matrix_from_center"
   ]
  },
  {
   "cell_type": "code",
   "execution_count": 167,
   "metadata": {},
   "outputs": [
    {
     "data": {
      "text/plain": [
       "-957.914640283373"
      ]
     },
     "execution_count": 167,
     "metadata": {},
     "output_type": "execute_result"
    }
   ],
   "source": [
    "-9.11781567**2 +  -27.5563003**2 + -10.74385366 **2"
   ]
  },
  {
   "cell_type": "code",
   "execution_count": 51,
   "metadata": {
    "collapsed": true
   },
   "outputs": [],
   "source": [
    "import re\n",
    "import numpy as np\n",
    "import os\n",
    "class PdbReader():\n",
    "    \n",
    "    def __init__(self, pdb_file, model_num=None, x_start_col=None, element_col=None):\n",
    "        self.pdb_file = pdb_file\n",
    "        self.model_num = model_num\n",
    "        self.x_start_col = x_start_col\n",
    "        self.element_col = element_col\n",
    "        self.file_name, self.file_ext = os.path.splitext(str(self.pdb_file))\n",
    "\n",
    "    def get_ATOM(self):\n",
    "        f = open(self.pdb_file, \"r\")\n",
    "        each_model_list = []\n",
    "        all_model_list = []\n",
    "        if self.model_num == None:\n",
    "            for line in f:\n",
    "                if line.startswith(\"ATOM\"):\n",
    "                    each_model_list.append(str(line.strip()))\n",
    "            f.close()\n",
    "            MODEL = each_model_list\n",
    "        else:\n",
    "            for line in f:\n",
    "                if line.startswith(\"MODEL\"):\n",
    "                    each_model_list = []\n",
    "\n",
    "                elif line.startswith(\"ATOM\"):\n",
    "                    each_model_list.append(line)\n",
    "\n",
    "                elif line.startswith(\"ENDMDL\"):\n",
    "                    all_model_list.append(each_model_list)\n",
    "            MODEL = all_model_list[model_num - 1]\n",
    "            f.close()\n",
    "        self.MODEL = MODEL\n",
    "        return(MODEL, all_model_list)\n",
    "    \n",
    "    def move_center(self, MODEL):\n",
    "        q_array = np.array([])\n",
    "        weight_q_array = np.array([], dtype = 'float64')\n",
    "        moment_array = np.array([], dtype = 'float64')\n",
    "        Total_weight = 0\n",
    "        for line in MODEL:\n",
    "            if self.x_start_col == None:\n",
    "                x = line.split()[6]\n",
    "                y = line.split()[7]\n",
    "                z = line.split()[8]\n",
    "            else:\n",
    "                x = line.split()[self.x_start_col]\n",
    "                y = line.split()[self.x_start_col+1]\n",
    "                z = line.split()[self.x_start_col+2]\n",
    "            if self.element_col == None:\n",
    "                element= line.split()[11]\n",
    "            else:\n",
    "                element= line.split()[self.element_col]\n",
    "                \n",
    "            q = np.array([x, y, z], dtype = 'float64')\n",
    "            q_array = np.append(q_array, q)\n",
    "            \n",
    "            if element == 'H':\n",
    "                weight = 1 \n",
    "            elif element == 'C':\n",
    "                weight = 12\n",
    "            elif element == 'N':\n",
    "                weight = 14\n",
    "            elif element == 'O':\n",
    "                weight = 16\n",
    "            elif element == \"S\":\n",
    "                weight = 32\n",
    "            else:\n",
    "                print(\"[[[WARNING]]] Please write the weight of Element:\" + element)\n",
    "            moment = q * weight\n",
    "            moment_array = np.append(moment_array, moment)\n",
    "            Total_weight += weight\n",
    "            weight_q = q * (weight**(1/2))\n",
    "            weight_q_array = np.append(weight_q_array, weight_q)\n",
    "            \n",
    "\n",
    "        q_matrix = q_array.reshape(int(q_array.shape[0]/3), 3)\n",
    "        weight_q_matrix=  weight_q_array.reshape(int(weight_q_array.shape[0]/3), 3)\n",
    "        moment_matrix = moment_array.reshape(int(moment_array.shape[0]/3), 3)\n",
    "        center = np.array([sum(moment_matrix[:, 0]), sum(moment_matrix[:, 1]), sum(moment_matrix[:, 2])]) / Total_weight\n",
    "        q_matrix_from_center = q_matrix - center\n",
    "        self.q_matrix_from_center = q_matrix_from_center\n",
    "        return(q_matrix_from_center)\n",
    "\n",
    "    def file_changer(self, q_matrix_from_center):\n",
    "        count = -1\n",
    "        f = open(self.pdb_file, \"r\")\n",
    "        new_file = open(self.file_name + '_from_conter' + self.file_ext, 'w')\n",
    "        if self.model_num == None:\n",
    "            for line in f:\n",
    "                if line.startswith(\"ATOM\"):\n",
    "                    count += 1\n",
    "                    if self.x_start_col == None:\n",
    "                        x = line.split()[6]\n",
    "                        y = line.split()[7]\n",
    "                        z = line.split()[8]\n",
    "                    else:\n",
    "                        x = line.split()[self.x_start_col]\n",
    "                        y = line.split()[self.x_start_col+1]\n",
    "                        z = line.split()[self.x_start_col+2]\n",
    "                    n = 0\n",
    "                    new_line = line\n",
    "                    for be in str(x), str(y), str(z):\n",
    "                        len_be = len(be)\n",
    "                        af = str(round(self.q_matrix_from_center[count][n], 3))\n",
    "                        len_af = len(af)\n",
    "                        if len_be == len_af:\n",
    "                            new_line = new_line.replace(be, af)\n",
    "                        elif len_be > len_af: \n",
    "                            new_line = new_line.replace(be, ' '*(len_be-len_af)+af)\n",
    "                        elif len_be < len_af: \n",
    "                            new_line = new_line.replace(' '*(len_af-len_be) + be, af)\n",
    "                        n += 1\n",
    "                else:\n",
    "                    new_line = line\n",
    "                new_file.write(new_line)\n",
    "        f.close()\n",
    "        new_file.close()"
   ]
  },
  {
   "cell_type": "code",
   "execution_count": 52,
   "metadata": {
    "collapsed": true
   },
   "outputs": [],
   "source": [
    "Reader1 = PdbReader('./Wild1_315K_1.pdb', x_start_col= 5, element_col=10)"
   ]
  },
  {
   "cell_type": "code",
   "execution_count": 53,
   "metadata": {},
   "outputs": [],
   "source": [
    "Reader1 = PdbReader('./Wild1_315K_1.pdb', x_start_col= 5, element_col=10)\n",
    "MODEL1 = Reader1.get_ATOM()[0]\n",
    "q = Reader1.move_center(MODEL1)\n",
    "Reader1.file_changer(q)\n",
    "Reader2 = PdbReader('./Wild1_315K_2.pdb', x_start_col= 5, element_col=10)\n",
    "MODEL2 = Reader2.get_ATOM()[0]\n",
    "q = Reader2.move_center(MODEL2)\n",
    "Reader2.file_changer(q)"
   ]
  },
  {
   "cell_type": "code",
   "execution_count": 56,
   "metadata": {},
   "outputs": [
    {
     "data": {
      "text/plain": [
       "array([[ -9.13998095, -27.55729618, -10.72228233],\n",
       "       [ -9.44298095, -28.16029618, -11.47328233],\n",
       "       [ -9.85898095, -27.62229618, -10.01528233],\n",
       "       ..., \n",
       "       [-19.18198095,  15.22170382,  28.51471767],\n",
       "       [-20.23298095,  15.85270382,  28.52471767],\n",
       "       [-18.10898095,  15.80270382,  28.84871767]])"
      ]
     },
     "execution_count": 56,
     "metadata": {},
     "output_type": "execute_result"
    }
   ],
   "source": [
    "Reader1.q_matrix_from_center"
   ]
  },
  {
   "cell_type": "code",
   "execution_count": 57,
   "metadata": {},
   "outputs": [
    {
     "data": {
      "text/plain": [
       "array([[  7.41802662, -25.80588567, -11.87228151],\n",
       "       [  8.38502662, -25.74888567, -12.15628151],\n",
       "       [  7.36102662, -26.69988567, -11.40728151],\n",
       "       ..., \n",
       "       [-27.09397338,  19.30511433, -14.31228151],\n",
       "       [-27.43797338,  18.84311433, -13.18828151],\n",
       "       [-27.84097338,  19.33211433, -15.32428151]])"
      ]
     },
     "execution_count": 57,
     "metadata": {},
     "output_type": "execute_result"
    }
   ],
   "source": [
    "Reader2.q_matrix_from_center"
   ]
  },
  {
   "cell_type": "code",
   "execution_count": 43,
   "metadata": {},
   "outputs": [],
   "source": [
    "import sympy\n",
    "r1 = sympy.Symbol('r1')\n",
    "r2 = sympy.Symbol('r2')\n",
    "r3 = sympy.Symbol('r3')\n",
    "\n",
    "r = np.array([r1, r2, r3])"
   ]
  },
  {
   "cell_type": "code",
   "execution_count": 50,
   "metadata": {},
   "outputs": [
    {
     "data": {
      "text/plain": [
       "array([41.7696258385919*r1**2, 379.702286335098*r2**2,\n",
       "       57.4836691562303*r3**2], dtype=object)"
      ]
     },
     "execution_count": 50,
     "metadata": {},
     "output_type": "execute_result"
    }
   ],
   "source": [
    "1/2 * (Reader1.q_matrix_from_center[0] * r)**2"
   ]
  },
  {
   "cell_type": "code",
   "execution_count": 91,
   "metadata": {},
   "outputs": [
    {
     "data": {
      "text/plain": [
       "(5425, 5425)"
      ]
     },
     "execution_count": 91,
     "metadata": {},
     "output_type": "execute_result"
    }
   ],
   "source": [
    "np.linalg.svd(, full_matrices=True)[0].shape"
   ]
  },
  {
   "cell_type": "code",
   "execution_count": 133,
   "metadata": {},
   "outputs": [],
   "source": [
    "U, s, V = np.linalg.svd(Reader1.q_matrix_from_center * Reader2.q_matrix_from_center, full_matrices=False)"
   ]
  },
  {
   "cell_type": "code",
   "execution_count": 83,
   "metadata": {},
   "outputs": [
    {
     "data": {
      "text/plain": [
       "array([[  7.41802662, -25.80588567, -11.87228151],\n",
       "       [  8.38502662, -25.74888567, -12.15628151],\n",
       "       [  7.36102662, -26.69988567, -11.40728151],\n",
       "       ..., \n",
       "       [-27.09397338,  19.30511433, -14.31228151],\n",
       "       [-27.43797338,  18.84311433, -13.18828151],\n",
       "       [-27.84097338,  19.33211433, -15.32428151]])"
      ]
     },
     "execution_count": 83,
     "metadata": {},
     "output_type": "execute_result"
    }
   ],
   "source": [
    "Reader2.q_matrix_from_center"
   ]
  },
  {
   "cell_type": "code",
   "execution_count": 134,
   "metadata": {},
   "outputs": [],
   "source": [
    "R = np.dot(U, V.T)"
   ]
  },
  {
   "cell_type": "code",
   "execution_count": 135,
   "metadata": {},
   "outputs": [
    {
     "data": {
      "text/plain": [
       "array([[ 0.0117437 ,  0.05134447, -0.00277082],\n",
       "       [ 0.01191568,  0.05253246, -0.00364538],\n",
       "       [ 0.01776836,  0.05158883, -0.00743543],\n",
       "       ..., \n",
       "       [-0.0107041 ,  0.01707292,  0.05820943],\n",
       "       [-0.0288462 ,  0.02237277,  0.0755228 ],\n",
       "       [ 0.00343691,  0.01391396,  0.04602075]])"
      ]
     },
     "execution_count": 135,
     "metadata": {},
     "output_type": "execute_result"
    }
   ],
   "source": [
    "R"
   ]
  },
  {
   "cell_type": "code",
   "execution_count": 136,
   "metadata": {},
   "outputs": [
    {
     "ename": "ValueError",
     "evalue": "shapes (5425,3) and (5425,3) not aligned: 3 (dim 1) != 5425 (dim 0)",
     "output_type": "error",
     "traceback": [
      "\u001b[0;31m---------------------------------------------------------------------------\u001b[0m",
      "\u001b[0;31mValueError\u001b[0m                                Traceback (most recent call last)",
      "\u001b[0;32m<ipython-input-136-e34a5e9642a1>\u001b[0m in \u001b[0;36m<module>\u001b[0;34m()\u001b[0m\n\u001b[0;32m----> 1\u001b[0;31m \u001b[0mnp\u001b[0m\u001b[0;34m.\u001b[0m\u001b[0mdot\u001b[0m\u001b[0;34m(\u001b[0m\u001b[0mR\u001b[0m\u001b[0;34m,\u001b[0m \u001b[0mReader1\u001b[0m\u001b[0;34m.\u001b[0m\u001b[0mq_matrix_from_center\u001b[0m\u001b[0;34m)\u001b[0m\u001b[0;34m\u001b[0m\u001b[0m\n\u001b[0m",
      "\u001b[0;31mValueError\u001b[0m: shapes (5425,3) and (5425,3) not aligned: 3 (dim 1) != 5425 (dim 0)"
     ]
    }
   ],
   "source": [
    "np.dot(R, Reader1.q_matrix_from_center)"
   ]
  },
  {
   "cell_type": "code",
   "execution_count": 114,
   "metadata": {},
   "outputs": [
    {
     "data": {
      "text/plain": [
       "array([[ -9.13998095, -27.55729618, -10.72228233],\n",
       "       [ -9.44298095, -28.16029618, -11.47328233],\n",
       "       [ -9.85898095, -27.62229618, -10.01528233],\n",
       "       ..., \n",
       "       [-19.18198095,  15.22170382,  28.51471767],\n",
       "       [-20.23298095,  15.85270382,  28.52471767],\n",
       "       [-18.10898095,  15.80270382,  28.84871767]])"
      ]
     },
     "execution_count": 114,
     "metadata": {},
     "output_type": "execute_result"
    }
   ],
   "source": [
    "Reader1.q_matrix_from_center"
   ]
  },
  {
   "cell_type": "code",
   "execution_count": 115,
   "metadata": {},
   "outputs": [
    {
     "data": {
      "text/plain": [
       "array([[  7.41802662, -25.80588567, -11.87228151],\n",
       "       [  8.38502662, -25.74888567, -12.15628151],\n",
       "       [  7.36102662, -26.69988567, -11.40728151],\n",
       "       ..., \n",
       "       [-27.09397338,  19.30511433, -14.31228151],\n",
       "       [-27.43797338,  18.84311433, -13.18828151],\n",
       "       [-27.84097338,  19.33211433, -15.32428151]])"
      ]
     },
     "execution_count": 115,
     "metadata": {},
     "output_type": "execute_result"
    }
   ],
   "source": [
    "Reader2.q_matrix_from_center"
   ]
  },
  {
   "cell_type": "code",
   "execution_count": null,
   "metadata": {
    "collapsed": true
   },
   "outputs": [],
   "source": []
  }
 ],
 "metadata": {
  "kernelspec": {
   "display_name": "Python 3",
   "language": "python",
   "name": "python3"
  },
  "language_info": {
   "codemirror_mode": {
    "name": "ipython",
    "version": 3
   },
   "file_extension": ".py",
   "mimetype": "text/x-python",
   "name": "python",
   "nbconvert_exporter": "python",
   "pygments_lexer": "ipython3",
   "version": "3.6.2"
  }
 },
 "nbformat": 4,
 "nbformat_minor": 2
}
